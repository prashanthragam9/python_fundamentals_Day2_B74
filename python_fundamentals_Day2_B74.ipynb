{
 "cells": [
  {
   "cell_type": "code",
   "execution_count": null,
   "id": "dcbe4c3b-7a08-49d4-b17e-abe0098dca38",
   "metadata": {},
   "outputs": [],
   "source": [
    "#algorithm basics program:\n"
   ]
  },
  {
   "cell_type": "code",
   "execution_count": 4,
   "id": "58d4b777-db41-49a2-866e-7bf508e1428e",
   "metadata": {},
   "outputs": [],
   "source": []
  },
  {
   "cell_type": "code",
   "execution_count": 6,
   "id": "5927b265-73b1-41d7-a4dc-22d59be822af",
   "metadata": {},
   "outputs": [
    {
     "name": "stdout",
     "output_type": "stream",
     "text": [
      "11\n"
     ]
    }
   ],
   "source": [
    "x = 2\n",
    "y = 9\n",
    "z = x+y\n",
    "print(z)"
   ]
  },
  {
   "cell_type": "code",
   "execution_count": 7,
   "id": "9cf39f83-e808-48a0-b4eb-adaa38ed4f7a",
   "metadata": {},
   "outputs": [
    {
     "name": "stdout",
     "output_type": "stream",
     "text": [
      "4\n"
     ]
    }
   ],
   "source": [
    "x = -5\n",
    "y = 9\n",
    "z=x+y\n",
    "print(z)"
   ]
  },
  {
   "cell_type": "code",
   "execution_count": 8,
   "id": "68ccfad8-915d-4a33-b438-869437e102e5",
   "metadata": {},
   "outputs": [
    {
     "name": "stdout",
     "output_type": "stream",
     "text": [
      "1.0\n"
     ]
    }
   ],
   "source": [
    "a=1\n",
    "b=6\n",
    "c=b-a\n",
    "c=a*b\n",
    "c=a*b/b\n",
    "print(c)"
   ]
  },
  {
   "cell_type": "code",
   "execution_count": 9,
   "id": "2864480c-e6ef-4a74-9eb3-6480ef720ded",
   "metadata": {},
   "outputs": [
    {
     "name": "stdout",
     "output_type": "stream",
     "text": [
      "5\n"
     ]
    }
   ],
   "source": [
    "a=1\n",
    "b=6\n",
    "c=b-a\n",
    "print(c)"
   ]
  },
  {
   "cell_type": "code",
   "execution_count": 10,
   "id": "5c8f35e5-4ac1-4188-ba3f-3b115feaa4d5",
   "metadata": {},
   "outputs": [
    {
     "name": "stdout",
     "output_type": "stream",
     "text": [
      "6\n"
     ]
    }
   ],
   "source": [
    "a=1\n",
    "b=6\n",
    "c=b*a\n",
    "print(c)"
   ]
  },
  {
   "cell_type": "code",
   "execution_count": 13,
   "id": "86855693-a9ed-48ec-96c3-148386acb732",
   "metadata": {},
   "outputs": [
    {
     "name": "stdout",
     "output_type": "stream",
     "text": [
      "3\n"
     ]
    }
   ],
   "source": [
    "abc = 1\n",
    "defi= 2\n",
    "ghi= abc+defi\n",
    "print(ghi)"
   ]
  },
  {
   "cell_type": "code",
   "execution_count": null,
   "id": "d9210e27-e43c-4866-a08f-086306eab75b",
   "metadata": {},
   "outputs": [],
   "source": []
  },
  {
   "cell_type": "code",
   "execution_count": 14,
   "id": "e430dbd3-ce70-40b0-9751-8a660f658e07",
   "metadata": {},
   "outputs": [
    {
     "ename": "SyntaxError",
     "evalue": "invalid syntax (1418883884.py, line 2)",
     "output_type": "error",
     "traceback": [
      "\u001b[0;36m  Input \u001b[0;32mIn [14]\u001b[0;36m\u001b[0m\n\u001b[0;31m    For declaring the variables in PY\u001b[0m\n\u001b[0m        ^\u001b[0m\n\u001b[0;31mSyntaxError\u001b[0m\u001b[0;31m:\u001b[0m invalid syntax\n"
     ]
    }
   ],
   "source": [
    "rule:1\n",
    "For declaring the variables in PY\n",
    "First_Name = 'Ragam'\n",
    "print(First_Name)"
   ]
  },
  {
   "cell_type": "code",
   "execution_count": null,
   "id": "21e740d4-9352-48d9-9c97-446310b0c693",
   "metadata": {},
   "outputs": [],
   "source": [
    "#rule:1#the appraoch for declaring the variable in python is as follows:\n",
    "No namespaces while declaring the varianle in python\n"
   ]
  },
  {
   "cell_type": "code",
   "execution_count": 15,
   "id": "c2518dc2-05c2-4e8c-ae89-8d8c5eb6bbc9",
   "metadata": {},
   "outputs": [
    {
     "ename": "NameError",
     "evalue": "name 'Print' is not defined",
     "output_type": "error",
     "traceback": [
      "\u001b[0;31m---------------------------------------------------------------------------\u001b[0m",
      "\u001b[0;31mNameError\u001b[0m                                 Traceback (most recent call last)",
      "Input \u001b[0;32mIn [15]\u001b[0m, in \u001b[0;36m<cell line: 2>\u001b[0;34m()\u001b[0m\n\u001b[1;32m      1\u001b[0m FirstName \u001b[38;5;241m=\u001b[39m \u001b[38;5;124m'\u001b[39m\u001b[38;5;124mRagam\u001b[39m\u001b[38;5;124m'\u001b[39m\n\u001b[0;32m----> 2\u001b[0m \u001b[43mPrint\u001b[49m(FirstName)\n",
      "\u001b[0;31mNameError\u001b[0m: name 'Print' is not defined"
     ]
    }
   ],
   "source": [
    "FirstName = 'Ragam'\n",
    "Print(FirstName)"
   ]
  },
  {
   "cell_type": "code",
   "execution_count": 16,
   "id": "65b40640-3ecb-4c87-a3cd-ccdf639ee8a9",
   "metadata": {},
   "outputs": [
    {
     "name": "stdout",
     "output_type": "stream",
     "text": [
      "ragam Prasant\n"
     ]
    }
   ],
   "source": [
    "firstname = 'ragam Prasant'\n",
    "print(firstname)"
   ]
  },
  {
   "cell_type": "code",
   "execution_count": 19,
   "id": "64182c26-cd0b-4856-bb98-e27ee9b621d9",
   "metadata": {},
   "outputs": [
    {
     "name": "stdout",
     "output_type": "stream",
     "text": [
      "ragam\n"
     ]
    }
   ],
   "source": [
    "lastname = 'ragam'\n",
    "print(lastname)"
   ]
  },
  {
   "cell_type": "code",
   "execution_count": null,
   "id": "9dea11f8-846e-4042-a849-a0e69f76deea",
   "metadata": {},
   "outputs": [],
   "source": [
    "#Rule 2: varialble should not start with number or integer; Integer should not be at beginer , Varialble Num VarNum Var;\n"
   ]
  },
  {
   "cell_type": "code",
   "execution_count": 20,
   "id": "5a1d06f7-a068-4eb3-bd63-69b0605a5119",
   "metadata": {},
   "outputs": [
    {
     "ename": "SyntaxError",
     "evalue": "invalid syntax (1127563943.py, line 1)",
     "output_type": "error",
     "traceback": [
      "\u001b[0;36m  Input \u001b[0;32mIn [20]\u001b[0;36m\u001b[0m\n\u001b[0;31m    234Name ='ji'\u001b[0m\n\u001b[0m       ^\u001b[0m\n\u001b[0;31mSyntaxError\u001b[0m\u001b[0;31m:\u001b[0m invalid syntax\n"
     ]
    }
   ],
   "source": [
    "234Name ='ji'\n",
    "print(234Name )"
   ]
  },
  {
   "cell_type": "code",
   "execution_count": null,
   "id": "7c6dd18d-737b-4d74-babb-162365b601db",
   "metadata": {},
   "outputs": [],
   "source": [
    "#the appraoch for this Name2 :\n"
   ]
  },
  {
   "cell_type": "code",
   "execution_count": 21,
   "id": "ab4abbc7-ccf1-415a-8a8b-eac4c60ba9ea",
   "metadata": {},
   "outputs": [
    {
     "name": "stdout",
     "output_type": "stream",
     "text": [
      "raga2\n"
     ]
    }
   ],
   "source": [
    "name2= 'raga2'\n",
    "print(name2)"
   ]
  },
  {
   "cell_type": "code",
   "execution_count": 22,
   "id": "7ceeeaa9-e743-4895-adee-ddeb1733e5b2",
   "metadata": {},
   "outputs": [
    {
     "name": "stdout",
     "output_type": "stream",
     "text": [
      "raga3\n"
     ]
    }
   ],
   "source": [
    "n2name ='raga3'\n",
    "print(n2name)"
   ]
  },
  {
   "cell_type": "code",
   "execution_count": 23,
   "id": "9877daa8-c190-42bf-a659-41d1f4495609",
   "metadata": {},
   "outputs": [
    {
     "name": "stdout",
     "output_type": "stream",
     "text": [
      "abc\n"
     ]
    }
   ],
   "source": [
    "Nme123 = 'abc'\n",
    "print(Nme123)"
   ]
  },
  {
   "cell_type": "code",
   "execution_count": null,
   "id": "e2346d0d-8cae-4cd0-9fee-ba3e6eb72ef2",
   "metadata": {},
   "outputs": [],
   "source": []
  },
  {
   "cell_type": "code",
   "execution_count": null,
   "id": "850ec601-7bc7-4f3e-b445-3b0b8b678e3a",
   "metadata": {},
   "outputs": [],
   "source": [
    "#rule 3 Variable name should not contain special characters\n",
    "@ # $ % &   *\n"
   ]
  },
  {
   "cell_type": "code",
   "execution_count": 24,
   "id": "68f291db-d2e3-4658-822f-77e80b51056a",
   "metadata": {},
   "outputs": [
    {
     "ename": "SyntaxError",
     "evalue": "invalid syntax (2059256670.py, line 1)",
     "output_type": "error",
     "traceback": [
      "\u001b[0;36m  Input \u001b[0;32mIn [24]\u001b[0;36m\u001b[0m\n\u001b[0;31m    name@ = 'div'\u001b[0m\n\u001b[0m          ^\u001b[0m\n\u001b[0;31mSyntaxError\u001b[0m\u001b[0;31m:\u001b[0m invalid syntax\n"
     ]
    }
   ],
   "source": [
    "name@ = 'div'\n",
    "print(name@)"
   ]
  },
  {
   "cell_type": "code",
   "execution_count": null,
   "id": "4f784859-aea9-43b8-878c-993ed65ac935",
   "metadata": {},
   "outputs": [],
   "source": [
    "#should not contain at all that is the rule "
   ]
  },
  {
   "cell_type": "code",
   "execution_count": 25,
   "id": "bdf68fc6-f83c-4973-888c-9c463ab1e14f",
   "metadata": {},
   "outputs": [
    {
     "name": "stdout",
     "output_type": "stream",
     "text": [
      "div\n"
     ]
    }
   ],
   "source": [
    "Name = 'div'\n",
    "print(Name)"
   ]
  },
  {
   "cell_type": "code",
   "execution_count": null,
   "id": "3f053ca6-a335-4775-9330-bafdcd692d72",
   "metadata": {},
   "outputs": [],
   "source": []
  },
  {
   "cell_type": "code",
   "execution_count": null,
   "id": "476266ff-cf89-421e-873d-850c5ac7b77e",
   "metadata": {},
   "outputs": [],
   "source": []
  },
  {
   "cell_type": "code",
   "execution_count": 26,
   "id": "84a449f5-1997-4099-8a56-4caee50f0530",
   "metadata": {},
   "outputs": [
    {
     "name": "stdout",
     "output_type": "stream",
     "text": [
      "ragam Prashant\n"
     ]
    }
   ],
   "source": [
    "fullname= 'ragam Prashant'\n",
    "print(fullname)"
   ]
  },
  {
   "cell_type": "code",
   "execution_count": 27,
   "id": "de884650-82db-4ff6-8be8-a94b8ad9455c",
   "metadata": {},
   "outputs": [
    {
     "name": "stdout",
     "output_type": "stream",
     "text": [
      "Ragam Prashant\n"
     ]
    }
   ],
   "source": [
    "print(fullname.title())"
   ]
  },
  {
   "cell_type": "code",
   "execution_count": null,
   "id": "f55a8cd9-01a1-4a07-8331-4f8437f588ce",
   "metadata": {},
   "outputs": [],
   "source": [
    "#reg: to ger in the right format for upper , ;lower , camelcase "
   ]
  },
  {
   "cell_type": "code",
   "execution_count": 28,
   "id": "8ed0bf9c-1a33-4d8d-af8e-1403e0012818",
   "metadata": {},
   "outputs": [
    {
     "name": "stdout",
     "output_type": "stream",
     "text": [
      "RAGAM PRASHANT\n"
     ]
    }
   ],
   "source": [
    "print(fullname.upper())\n"
   ]
  },
  {
   "cell_type": "code",
   "execution_count": 29,
   "id": "ff4c90a4-f737-49ef-be9b-801c66341b2d",
   "metadata": {},
   "outputs": [
    {
     "name": "stdout",
     "output_type": "stream",
     "text": [
      "ragam prashant\n"
     ]
    }
   ],
   "source": [
    "print(fullname.lower())"
   ]
  },
  {
   "cell_type": "code",
   "execution_count": null,
   "id": "7a7dc1da-cd85-4f9b-9460-ff9dcc29db60",
   "metadata": {},
   "outputs": [],
   "source": []
  }
 ],
 "metadata": {
  "kernelspec": {
   "display_name": "anaconda-2022.05-py39",
   "language": "python",
   "name": "conda-env-anaconda-2022.05-py39-py"
  },
  "language_info": {
   "codemirror_mode": {
    "name": "ipython",
    "version": 3
   },
   "file_extension": ".py",
   "mimetype": "text/x-python",
   "name": "python",
   "nbconvert_exporter": "python",
   "pygments_lexer": "ipython3",
   "version": "3.9.12"
  }
 },
 "nbformat": 4,
 "nbformat_minor": 5
}
